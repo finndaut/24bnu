{
 "cells": [
  {
   "cell_type": "markdown",
   "metadata": {},
   "source": [
    "# A33\n",
    "## b+f)"
   ]
  },
  {
   "cell_type": "code",
   "execution_count": 14,
   "metadata": {},
   "outputs": [],
   "source": [
    "import numpy as np\n",
    "\n",
    "\n",
    "def f0(x):\n",
    "    return np.tanh(x) - x / 2 - 1 / 2\n",
    "\n",
    "def deriv0(x):\n",
    "    return np.cosh(x)**-2 - 1 / 2\n",
    "\n",
    "\n",
    "def f1(x):\n",
    "    return np.tanh(x) - x / 10 - 1 / 2\n",
    "\n",
    "\n",
    "def deriv1(x):\n",
    "    return np.cosh(x)**-2 - 1 / 10\n",
    "\n",
    "\n",
    "def f2(x):\n",
    "    return x - x*1j + 1\n",
    "\n",
    "\n",
    "def bisect(func, start, sigma, fehler):\n",
    "    x_n = start\n",
    "    ret_list = [x_n]\n",
    "    if func(x_n + sigma) * func(x_n - sigma) < 0:\n",
    "        while np.linalg.norm(func(x_n)) > fehler:\n",
    "            if func(x_n + sigma) * func(x_n) < 0:\n",
    "                sigma /= 2\n",
    "                x_n += sigma\n",
    "            elif func(x_n + sigma) == 0:\n",
    "                x_n += sigma\n",
    "            elif func(x_n - sigma) * func(x_n) < 0:\n",
    "                sigma /= 2\n",
    "                x_n -= sigma\n",
    "            elif func(x_n - sigma) == 0:\n",
    "                x_n -= sigma\n",
    "            ret_list.append(x_n)\n",
    "    else:\n",
    "        return 'Kein VZW'\n",
    "    return ret_list\n",
    "\n",
    "\n",
    "def sekante(func, start, sigma, fehler):\n",
    "    x_offset = start - sigma\n",
    "    x_n = start + sigma\n",
    "    ret_list = [start - sigma, start + sigma]\n",
    "    while np.linalg.norm(func(x_n)) > fehler:\n",
    "        x_offset = x_n - (x_n - x_offset) * func(x_n) / (func(x_n) - func(x_offset))\n",
    "        x_n, x_offset = x_offset, x_n\n",
    "        ret_list.append(x_n)\n",
    "    return ret_list\n",
    "\n",
    "\n",
    "def newton(func, deriv, start, sigma, fehler):\n",
    "    x_n = start + sigma\n",
    "    ret_list = [x_n]\n",
    "    while np.linalg.norm(func(x_n)) > fehler:\n",
    "        x_n -= func(x_n) / deriv(x_n)\n",
    "        ret_list.append(x_n)\n",
    "    return ret_list"
   ]
  },
  {
   "cell_type": "markdown",
   "metadata": {},
   "source": [
    "## c)"
   ]
  },
  {
   "cell_type": "code",
   "execution_count": 15,
   "metadata": {},
   "outputs": [
    {
     "name": "stdout",
     "output_type": "stream",
     "text": [
      "lambda=0.5, x0=-3 [-3, -2.9, -2.9499999999999997, -2.9749999999999996, -2.9875, -2.99375, -2.990625, -2.9890625, -2.9898437500000004, -2.9902343750000004, -2.9900390625000006, -2.9899414062500007, -2.9898925781250005, -2.9899169921875006, -2.989904785156251, -2.9899108886718757, -2.989907836914063, -2.9899093627929694, -2.9899085998535164, -2.98990821838379, -2.9899084091186534, -2.9899083137512217, -2.9899083614349373, -2.989908385276795, -2.989908373355866, -2.9899083673954014, -2.9899083644151694, -2.9899083659052854, -2.989908365160227, -2.9899083655327563]\n",
      "lambda=0.1, x0=-15 [-15]\n",
      "lambda=0.1, x0=0.6 [0.6, 0.7, 0.6499999999999999, 0.6249999999999999, 0.6374999999999998, 0.6437499999999998, 0.6406249999999998, 0.6390624999999998, 0.6382812499999998, 0.6386718749999998, 0.6384765624999997, 0.6383789062499997, 0.6384277343749997, 0.6384521484374996, 0.6384643554687497, 0.6384582519531247, 0.6384552001953122, 0.638453674316406, 0.6384529113769528, 0.6384532928466794, 0.6384531021118162, 0.6384530067443845, 0.6384529590606687, 0.6384529829025266, 0.6384529948234555, 0.63845300078392, 0.6384530037641523]\n",
      "lambda=0.1, x0=5 [5, 4.9, 4.95, 4.9750000000000005, 4.987500000000001, 4.99375, 4.996875, 4.9984375000000005, 4.999218750000001, 4.998828125000001, 4.999023437500001, 4.999121093750001, 4.999072265625001, 4.999096679687501, 4.999084472656251, 4.999090576171876, 4.999087524414064, 4.9990890502929695, 4.999089813232422, 4.999090194702149, 4.999090385437013, 4.999090480804444, 4.999090433120728, 4.99909040927887, 4.999090397357941, 4.999090391397477, 4.999090388417245, 4.999090389907361]\n"
     ]
    }
   ],
   "source": [
    "print(\"lambda=0.5, x0=-3\", bisect(f0, -3, 0.2, 10 ** -10))\n",
    "print(\"lambda=0.1, x0=-15\", bisect(f1, -15, 0.2, 10 ** -10))\n",
    "print(\"lambda=0.1, x0=0.6\", bisect(f1, 0.6, 0.2, 10 ** -10))\n",
    "print(\"lambda=0.1, x0=5\", bisect(f1, 5, 0.2, 10 ** -10))"
   ]
  },
  {
   "cell_type": "markdown",
   "metadata": {},
   "source": [
    "## d)"
   ]
  },
  {
   "cell_type": "code",
   "execution_count": 16,
   "metadata": {},
   "outputs": [
    {
     "name": "stdout",
     "output_type": "stream",
     "text": [
      "lambda=0.5, x0=-3 [-3.2, -2.8, np.float64(-2.9890930034996455), np.float64(-2.9899119852718576), np.float64(-2.989908365447209)]\n",
      "lambda=0.1, x0=-15 [-15.2, -14.8, np.float64(-14.999999999997977)]\n",
      "lambda=0.1, x0=0.6 [0.39999999999999997, 0.8, np.float64(0.6622843624151802), np.float64(0.6355698972010602), np.float64(0.6384990558772687), np.float64(0.6384530912095503), np.float64(0.6384530036529114)]\n",
      "lambda=0.1, x0=5 [4.8, 5.2, np.float64(4.999016609275307), np.float64(4.999090365698296), np.float64(4.999090389422499)]\n"
     ]
    }
   ],
   "source": [
    "print(\"lambda=0.5, x0=-3\", sekante(f0, -3, 0.2, 10 ** -10))\n",
    "print(\"lambda=0.1, x0=-15\", sekante(f1, -15, 0.2, 10 ** -10))\n",
    "print(\"lambda=0.1, x0=0.6\", sekante(f1, 0.6, 0.2, 10 ** -10))\n",
    "print(\"lambda=0.1, x0=5\", sekante(f1, 5, 0.2, 10 ** -10))"
   ]
  },
  {
   "cell_type": "markdown",
   "metadata": {},
   "source": [
    "## e)"
   ]
  },
  {
   "cell_type": "code",
   "execution_count": 17,
   "metadata": {},
   "outputs": [
    {
     "name": "stdout",
     "output_type": "stream",
     "text": [
      "lambda=0.5, x0=-3 [-2.8, np.float64(-2.9908679405008787), np.float64(-2.989908384305978), np.float64(-2.989908365507576)]\n",
      "lambda=0.1, x0=-15 [-14.8, np.float64(-14.999999999998325)]\n",
      "lambda=0.1, x0=0.6 [0.8, np.float64(0.6169353572839731), np.float64(0.6381560313020298), np.float64(0.6384529454094117), np.float64(0.6384530036555733)]\n",
      "lambda=0.1, x0=5 [5.2, np.float64(4.999146885382783), np.float64(4.999090389428313)]\n"
     ]
    }
   ],
   "source": [
    "print(\"lambda=0.5, x0=-3\", newton(f0, deriv0, -3, 0.2, 10 ** -10))\n",
    "print(\"lambda=0.1, x0=-15\", newton(f1, deriv1, -15, 0.2, 10 ** -10))\n",
    "print(\"lambda=0.1, x0=0.6\", newton(f1, deriv1, 0.6, 0.2, 10 ** -10))\n",
    "print(\"lambda=0.1, x0=5\", newton(f1, deriv1, 5, 0.2, 10 ** -10))"
   ]
  }
 ],
 "metadata": {
  "kernelspec": {
   "display_name": "Python 3",
   "language": "python",
   "name": "python3"
  },
  "language_info": {
   "codemirror_mode": {
    "name": "ipython",
    "version": 3
   },
   "file_extension": ".py",
   "mimetype": "text/x-python",
   "name": "python",
   "nbconvert_exporter": "python",
   "pygments_lexer": "ipython3",
   "version": "3.10.12"
  }
 },
 "nbformat": 4,
 "nbformat_minor": 2
}
