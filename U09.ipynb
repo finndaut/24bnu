{
 "cells": [
  {
   "cell_type": "code",
   "execution_count": 9,
   "metadata": {},
   "outputs": [
    {
     "name": "stdout",
     "output_type": "stream",
     "text": [
      "9.992007221626409e-16\n",
      "4.440892098500626e-16\n",
      "1.2355567957644809e-15\n",
      "9.998512434661322e-16\n",
      "1.2449499245921886e-15\n",
      "1.2798491715644917e-15\n",
      "1.1565395065487128e-15\n",
      "1.3526478118932831e-15\n",
      "1.2483996457815775e-15\n",
      "1.2651385390863878e-15\n",
      "1.2579464223068489e-15\n",
      "1.3997451609150349e-15\n",
      "1.2065932650695065e-15\n",
      "1.3882525642551573e-15\n",
      "1.5146373205342345e-15\n",
      "1.4016832704180307e-15\n",
      "1.3841805571982438e-15\n",
      "1.3376558790271257e-15\n",
      "1.3667546325953073e-15\n"
     ]
    }
   ],
   "source": [
    "import numpy as np\n",
    "\n",
    "\n",
    "def cholesky(matrix):\n",
    "    i_dim, _ = np.shape(matrix)\n",
    "    g_arr = np.zeros_like(matrix)\n",
    "    g_arr[0, 0] = matrix[0, 0] ** (1/2)\n",
    "    g_arr[1:, 0] = matrix[1:, 0] / matrix[0, 0] ** (1/2)\n",
    "    for i in range(1, i_dim):\n",
    "        g_arr[i, i] = (matrix[i, i] - np.sum(g_arr[i, 0:i]**2)) ** (1/2)\n",
    "        g_arr[i+1:, i] = (matrix[i+1:, i] - np.sum(g_arr[i+1:, 0:i] * g_arr[i, 0:i], axis=1)) / g_arr[i, i]\n",
    "    return g_arr\n",
    "\n",
    "\n",
    "\n",
    "def pseudo_a(n, m, dim_m=2):\n",
    "    if n == m:\n",
    "        ret = 4\n",
    "    elif abs(n - m) == abs(dim_m) or (abs(n - m) == 1 and not (n+m+1) % (2*dim_m) == 0):\n",
    "        ret = -1\n",
    "    else:\n",
    "        ret = 0\n",
    "\n",
    "    return np.float64(ret)\n",
    "\n",
    "\n",
    "\n",
    "pseudo_a = np.vectorize(pseudo_a)\n",
    "\n",
    "for dim in range(2,21):\n",
    "    a_mat = pseudo_a(*np.ogrid[0:dim**2, 0:dim**2], dim_m=dim)\n",
    "    g_mat = cholesky(a_mat)\n",
    "    print(np.linalg.norm(a_mat-g_mat@(g_mat.T), ord=1))\n"
   ]
  },
  {
   "cell_type": "code",
   "execution_count": 10,
   "metadata": {},
   "outputs": [
    {
     "name": "stdout",
     "output_type": "stream",
     "text": [
      "0.0\n",
      "0.0\n",
      "0.0\n",
      "0.0\n",
      "0.0\n",
      "0.0\n",
      "1.3877787807814457e-17\n",
      "2.7755575615628914e-17\n",
      "3.469446951953614e-17\n",
      "5.551115123125783e-17\n",
      "5.551115123125783e-17\n",
      "6.938893903907228e-17\n",
      "nan\n",
      "nan\n",
      "nan\n",
      "nan\n",
      "nan\n",
      "nan\n",
      "nan\n"
     ]
    },
    {
     "name": "stderr",
     "output_type": "stream",
     "text": [
      "C:\\Users\\finnd\\AppData\\Local\\Temp\\ipykernel_14108\\2704689773.py:10: RuntimeWarning: invalid value encountered in scalar power\n",
      "  g_arr[i, i] = (matrix[i, i] - np.sum(g_arr[i, 0:i]**2)) ** (1/2)\n"
     ]
    }
   ],
   "source": [
    "def pseudo_h(n, m):\n",
    "    return 1 / np.float64(n + m + 1)\n",
    "\n",
    "\n",
    "pseudo_h = np.vectorize(pseudo_h)\n",
    "\n",
    "\n",
    "for dim in range(2,21):\n",
    "    a_mat = pseudo_h(*np.ogrid[0:dim, 0:dim])\n",
    "    g_mat = cholesky(a_mat)\n",
    "    print(np.linalg.norm(a_mat-g_mat@(g_mat.T), ord=1))\n"
   ]
  }
 ],
 "metadata": {
  "kernelspec": {
   "display_name": "base",
   "language": "python",
   "name": "python3"
  },
  "language_info": {
   "codemirror_mode": {
    "name": "ipython",
    "version": 3
   },
   "file_extension": ".py",
   "mimetype": "text/x-python",
   "name": "python",
   "nbconvert_exporter": "python",
   "pygments_lexer": "ipython3",
   "version": "3.11.7"
  }
 },
 "nbformat": 4,
 "nbformat_minor": 2
}
