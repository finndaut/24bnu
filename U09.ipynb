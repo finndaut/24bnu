{
 "cells": [
  {
   "cell_type": "code",
   "execution_count": 5,
   "metadata": {},
   "outputs": [
    {
     "name": "stdout",
     "output_type": "stream",
     "text": [
      "a_func 34 \\\n",
      "dim = 2 \\\n",
      "a_dens  277 \\\n",
      "a_diag g_diag 481 409 \\\n",
      "a_cood g_cood 547 499 \\\n",
      "norm= 9.992007221626409e-16 \\\n",
      "dim = 3 \\\n",
      "a_dens  800 \\\n",
      "a_diag g_diag 684 608 \\\n",
      "a_cood g_cood 886 819 \\\n",
      "norm= 4.440892098500626e-16 \\\n",
      "dim = 4 \\\n",
      "a_dens  2200 \\\n",
      "a_diag g_diag 964 964 \\\n",
      "a_cood g_cood 1388 1436 \\\n",
      "norm= 1.2355567957644809e-15 \\\n",
      "dim = 5 \\\n",
      "a_dens  5152 \\\n",
      "a_diag g_diag 1324 1528 \\\n",
      "a_cood g_cood 2044 2428 \\\n",
      "norm= 9.998512434661322e-16 \\\n",
      "dim = 6 \\\n",
      "a_dens  10520 \\\n",
      "a_diag g_diag 1764 2348 \\\n",
      "a_cood g_cood 2860 3900 \\\n",
      "norm= 1.2449499245921886e-15 \\\n",
      "dim = 7 \\\n",
      "a_dens  19360 \\\n",
      "a_diag g_diag 2284 3472 \\\n",
      "a_cood g_cood 3836 5951 \\\n",
      "norm= 1.2798491715644917e-15 \\\n",
      "dim = 8 \\\n",
      "a_dens  32920 \\\n",
      "a_diag g_diag 2884 4948 \\\n",
      "a_cood g_cood 4975 8671 \\\n",
      "norm= 1.1565395065487128e-15 \\\n",
      "dim = 9 \\\n",
      "a_dens  52640 \\\n",
      "a_diag g_diag 3564 6824 \\\n",
      "a_cood g_cood 6271 12159 \\\n",
      "norm= 1.3526478118932831e-15 \\\n",
      "dim = 10 \\\n",
      "a_dens  80161 \\\n",
      "a_diag g_diag 4324 9148 \\\n",
      "a_cood g_cood 7727 16511 \\\n",
      "norm= 1.2483996457815775e-15 \\\n",
      "dim = 11 \\\n",
      "a_dens  117289 \\\n",
      "a_diag g_diag 5164 11968 \\\n",
      "a_cood g_cood 9343 21823 \\\n",
      "norm= 1.2651385390863878e-15 \\\n",
      "dim = 12 \\\n",
      "a_dens  166049 \\\n",
      "a_diag g_diag 6084 15332 \\\n",
      "a_cood g_cood 11119 28191 \\\n",
      "norm= 1.2579464223068489e-15 \\\n",
      "dim = 13 \\\n",
      "a_dens  228649 \\\n",
      "a_diag g_diag 7084 19288 \\\n",
      "a_cood g_cood 13055 35711 \\\n",
      "norm= 1.3997451609150349e-15 \\\n",
      "dim = 14 \\\n",
      "a_dens  307489 \\\n",
      "a_diag g_diag 8164 23884 \\\n",
      "a_cood g_cood 15151 44479 \\\n",
      "norm= 1.2065932650695065e-15 \\\n",
      "dim = 15 \\\n",
      "a_dens  405161 \\\n",
      "a_diag g_diag 9324 29168 \\\n",
      "a_cood g_cood 17407 54591 \\\n",
      "norm= 1.3882525642551573e-15 \\\n",
      "dim = 16 \\\n",
      "a_dens  524451 \\\n",
      "a_diag g_diag 10567 35191 \\\n",
      "a_cood g_cood 19825 66154 \\\n",
      "norm= 1.5146373205342345e-15 \\\n",
      "dim = 17 \\\n",
      "a_dens  668331 \\\n",
      "a_diag g_diag 11887 41995 \\\n",
      "a_cood g_cood 22401 79242 \\\n",
      "norm= 1.4016832704180307e-15 \\\n",
      "dim = 18 \\\n",
      "a_dens  839971 \\\n",
      "a_diag g_diag 13287 49631 \\\n",
      "a_cood g_cood 25137 93962 \\\n",
      "norm= 1.3841805571982438e-15 \\\n",
      "dim = 19 \\\n",
      "a_dens  1042731 \\\n",
      "a_diag g_diag 14767 58147 \\\n",
      "a_cood g_cood 28033 110410 \\\n",
      "norm= 1.3376558790271257e-15 \\\n",
      "dim = 20 \\\n",
      "a_dens  1280163 \\\n",
      "a_diag g_diag 16327 67600 \\\n",
      "a_cood g_cood 31089 128682 \\\n",
      "norm= 1.3667546325953073e-15 \\\n"
     ]
    }
   ],
   "source": [
    "import pickle\n",
    "import numpy as np\n",
    "from scipy import sparse\n",
    "\n",
    "\n",
    "def cholesky(matrix):\n",
    "    i_dim, _ = np.shape(matrix)\n",
    "    g_arr = np.zeros_like(matrix)\n",
    "    g_arr[0, 0] = matrix[0, 0] ** (1/2)\n",
    "    g_arr[1:, 0] = matrix[1:, 0] / matrix[0, 0] ** (1/2)\n",
    "    for i in range(1, i_dim):\n",
    "        g_arr[i, i] = (matrix[i, i] - np.sum(g_arr[i, 0:i]**2)) ** (1/2)\n",
    "        g_arr[i+1:, i] = (matrix[i+1:, i] - np.sum(g_arr[i+1:, 0:i] * g_arr[i, 0:i], axis=1)) / g_arr[i, i]\n",
    "    return g_arr\n",
    "\n",
    "\n",
    "\n",
    "def a_func(n, m, dim_m=2):\n",
    "    if n == m:\n",
    "        ret = 4\n",
    "    elif abs(n - m) == abs(dim_m) or (abs(n - m) == 1 and not (n+m+1) % (2*dim_m) == 0):\n",
    "        ret = -1\n",
    "    else:\n",
    "        ret = 0\n",
    "\n",
    "    return np.float64(ret)\n",
    "\n",
    "print('a_func', len(pickle.dumps(a_func)), '\\\\')\n",
    "\n",
    "a_func = np.vectorize(a_func)\n",
    "\n",
    "for dim in range(2, 21):\n",
    "    print(\"dim = %i\" % dim, '\\\\')\n",
    "    a_dens = a_func(*np.ogrid[0:dim ** 2, 0:dim ** 2], dim_m=dim)\n",
    "    a_diag = sparse.dia_matrix(a_dens)\n",
    "    a_coor = sparse.coo_matrix(a_dens)\n",
    "    print('a_dens ', len(pickle.dumps(a_dens)), '\\\\')\n",
    "    g_dens = cholesky(a_dens)\n",
    "    g_diag = sparse.dia_matrix(g_dens)\n",
    "    g_coor = sparse.coo_matrix(g_dens)\n",
    "    print('a_diag g_diag', len(pickle.dumps(a_diag)), len(pickle.dumps(g_diag)), '\\\\')\n",
    "    print('a_cood g_cood', len(pickle.dumps(a_coor)), len(pickle.dumps(g_coor)), '\\\\')\n",
    "    norm = np.linalg.norm(a_dens - g_dens @ g_dens.T, ord=1)\n",
    "    print(\"norm=\", norm, '\\\\')\n"
   ]
  },
  {
   "cell_type": "code",
   "execution_count": 6,
   "metadata": {},
   "outputs": [
    {
     "name": "stdout",
     "output_type": "stream",
     "text": [
      "[0.0, 0.0, 0.0, 0.0, 0.0, 0.0, 1.3877787807814457e-17, 2.7755575615628914e-17, 3.469446951953614e-17, 5.551115123125783e-17, 5.551115123125783e-17, 6.938893903907228e-17, nan, nan, nan, nan, nan, nan, nan]\n"
     ]
    },
    {
     "name": "stderr",
     "output_type": "stream",
     "text": [
      "C:\\Users\\finnd\\AppData\\Local\\Temp\\ipykernel_10944\\3487262445.py:12: RuntimeWarning: invalid value encountered in scalar power\n",
      "  g_arr[i, i] = (matrix[i, i] - np.sum(g_arr[i, 0:i]**2)) ** (1/2)\n"
     ]
    },
    {
     "data": {
      "text/plain": [
       "[Text(0.5, 0, 'n'), Text(0, 0.5, 'Fehler')]"
      ]
     },
     "execution_count": 6,
     "metadata": {},
     "output_type": "execute_result"
    },
    {
     "data": {
      "image/png": "[encoded data removed]",
      "text/plain": [
       "<Figure size 640x480 with 1 Axes>"
      ]
     },
     "metadata": {},
     "output_type": "display_data"
    }
   ],
   "source": [
    "import numpy as np\n",
    "import matplotlib.pyplot as plt\n",
    "\n",
    "def h_func(n, m, dim_m=2):\n",
    "    return 1 / np.float64(n + m + 1)\n",
    "\n",
    "h_func = np.vectorize(h_func)\n",
    "\n",
    "dim_list = [*range(2,21)]\n",
    "norm_list = []\n",
    "\n",
    "for dim in dim_list:\n",
    "    h_dens = h_func(*np.ogrid[0:dim, 0:dim])\n",
    "    g_dens = cholesky(h_dens)\n",
    "    norm_list.append(np.linalg.norm(h_dens - g_dens @ g_dens.T, ord=1))\n",
    "    \n",
    "print(norm_list)\n",
    "fig, ax = plt.subplots()\n",
    "ax.semilogy(dim_list, norm_list)\n",
    "ax.set(xlabel='n', ylabel='Fehler')\n"
   ]
  }
 ],
 "metadata": {
  "kernelspec": {
   "display_name": "base",
   "language": "python",
   "name": "python3"
  },
  "language_info": {
   "codemirror_mode": {
    "name": "ipython",
    "version": 3
   },
   "file_extension": ".py",
   "mimetype": "text/x-python",
   "name": "python",
   "nbconvert_exporter": "python",
   "pygments_lexer": "ipython3",
   "version": "3.11.7"
  }
 },
 "nbformat": 4,
 "nbformat_minor": 2
}
