{
 "cells": [
  {
   "cell_type": "code",
   "execution_count": 1,
   "metadata": {},
   "outputs": [
    {
     "name": "stdout",
     "output_type": "stream",
     "text": [
      "9.028031637431707e-16\n",
      "5.222180388738334e-16\n",
      "1.6094704555684561e-15\n",
      "1.8384572680159904e-15\n",
      "1.9515281018063605e-15\n",
      "2.00832100976122e-15\n",
      "2.921213423637063e-15\n",
      "3.045936200455572e-15\n",
      "3.5455267654622086e-15\n",
      "3.627783251279552e-15\n",
      "3.842179528520833e-15\n",
      "5.087423995625262e-15\n",
      "4.89646012089563e-15\n",
      "5.1780144705207664e-15\n",
      "6.063404934694937e-15\n",
      "5.63422147589801e-15\n",
      "6.187274168840386e-15\n",
      "6.706856700928077e-15\n",
      "7.1030487445192054e-15\n"
     ]
    }
   ],
   "source": [
    "import numpy as np\n",
    "\n",
    "\n",
    "def cholesky(matrix):\n",
    "    i_dim, _ = np.shape(matrix)\n",
    "    g_arr = np.zeros_like(matrix)\n",
    "    g_arr[0, 0] = matrix[0, 0] ** (1/2)\n",
    "    g_arr[1:, 0] = matrix[1:, 0] / matrix[0, 0] ** (1/2)\n",
    "    for i in range(1, i_dim):\n",
    "        g_arr[i, i] = (matrix[i, i] - np.sum(g_arr[i, 0:i]**2)) ** (1/2)\n",
    "        g_arr[i+1:, i] = (matrix[i+1:, i] - np.sum(g_arr[i+1:, 0:i] * g_arr[i, 0:i], axis=1)) / g_arr[i, i]\n",
    "    return g_arr\n",
    "\n",
    "\n",
    "\n",
    "def pseudo_a(n, m, dim_m=2):\n",
    "    if n == m:\n",
    "        ret = 4\n",
    "    elif abs(n - m) == abs(dim_m) or (abs(n - m) == 1 and not (n+m+1) % (2*dim_m) == 0):\n",
    "        ret = -1\n",
    "    else:\n",
    "        ret = 0\n",
    "\n",
    "    return np.float64(ret)\n",
    "\n",
    "\n",
    "def pseudo_h(n, m, dim_m=2):\n",
    "    return 1 / np.float64(n + m + 1)\n",
    "\n",
    "\n",
    "pseudo_a = np.vectorize(pseudo_a)\n",
    "pseudo_h = np.vectorize(pseudo_h)\n",
    "\n",
    "for dim in range(2,21):\n",
    "    a_mat = pseudo_a(*np.ogrid[0:dim**2, 0:dim**2], dim_m=dim)\n",
    "    g_mat = cholesky(a_mat)\n",
    "    print(np.linalg.norm(a_mat-g_mat@(g_mat.T)))\n"
   ]
  }
 ],
 "metadata": {
  "kernelspec": {
   "display_name": "base",
   "language": "python",
   "name": "python3"
  },
  "language_info": {
   "codemirror_mode": {
    "name": "ipython",
    "version": 3
   },
   "file_extension": ".py",
   "mimetype": "text/x-python",
   "name": "python",
   "nbconvert_exporter": "python",
   "pygments_lexer": "ipython3",
   "version": "3.11.7"
  }
 },
 "nbformat": 4,
 "nbformat_minor": 2
}
