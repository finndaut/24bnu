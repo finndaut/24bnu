{
  "cells": [
    {
      "cell_type": "code",
      "execution_count": 200,
      "metadata": {
        "id": "_OxNv084oWf_"
      },
      "outputs": [],
      "source": [
        "import numpy as np\n",
        "import math"
      ]
    },
    {
      "cell_type": "markdown",
      "metadata": {
        "id": "pTJN3DjvoWgA"
      },
      "source": [
        "# A6\n",
        "## a)\n"
      ]
    },
    {
      "cell_type": "markdown",
      "metadata": {
        "id": "DLOdv6DgoWgC"
      },
      "source": [
        "## b)"
      ]
    },
    {
      "cell_type": "code",
      "execution_count": 172,
      "metadata": {
        "colab": {
          "base_uri": "https://localhost:8080/",
          "height": 323
        },
        "id": "WxxWVc49oWgD",
        "outputId": "4f0d37cb-97f2-430e-e35c-dc0f984ad364"
      },
      "outputs": [
        {
          "data": {
            "text/plain": [
              "array([[1.00000000e+00, 2.00000000e+00, 3.00000000e+00, 4.00000000e+00,\n",
              "        5.00000000e+00, 6.00000000e+00, 7.00000000e+00, 8.00000000e+00,\n",
              "        9.00000000e+00, 1.00000000e+01],\n",
              "       [1.32457638e+03, 8.42614891e+02, 5.35152061e+02, 3.38778524e+02,\n",
              "        2.13126628e+02, 1.32497526e+02, 8.05308264e+01, 4.68111779e+01,\n",
              "        2.47079633e+01, 1.00000000e+01],\n",
              "       [0.00000000e+00, 6.57878434e+03, 3.65175889e+03, 1.98409353e+03,\n",
              "        1.04744006e+03, 5.31140430e+02, 2.53783954e+02, 1.10296367e+02,\n",
              "        4.04159265e+01, 1.00000000e+01],\n",
              "       [0.00000000e+00, 0.00000000e+00, 1.48543138e+04, 7.13176797e+03,\n",
              "        3.27711133e+03, 1.41945282e+03, 5.65517230e+02, 1.98455567e+02,\n",
              "        5.61238898e+01, 1.00000000e+01],\n",
              "       [0.00000000e+00, 0.00000000e+00, 0.00000000e+00, 1.98687721e+04,\n",
              "        8.10862869e+03, 3.07583948e+03, 1.05448850e+03, 3.11288778e+02,\n",
              "        7.18318531e+01, 1.00000000e+01],\n",
              "       [0.00000000e+00, 0.00000000e+00, 0.00000000e+00, 0.00000000e+00,\n",
              "        1.72814287e+04, 5.83958588e+03, 1.75945561e+03, 4.48796000e+02,\n",
              "        8.75398163e+01, 1.00000000e+01],\n",
              "       [0.00000000e+00, 0.00000000e+00, 0.00000000e+00, 0.00000000e+00,\n",
              "        0.00000000e+00, 1.01108582e+04, 2.71917640e+03, 6.10977233e+02,\n",
              "        1.03247780e+02, 1.00000000e+01],\n",
              "       [0.00000000e+00, 0.00000000e+00, 0.00000000e+00, 0.00000000e+00,\n",
              "        0.00000000e+00, 0.00000000e+00, 3.97240872e+03, 7.97832477e+02,\n",
              "        1.18955743e+02, 1.00000000e+01],\n",
              "       [0.00000000e+00, 0.00000000e+00, 0.00000000e+00, 0.00000000e+00,\n",
              "        0.00000000e+00, 0.00000000e+00, 0.00000000e+00, 1.00936173e+03,\n",
              "        1.34663706e+02, 1.00000000e+01],\n",
              "       [0.00000000e+00, 0.00000000e+00, 0.00000000e+00, 0.00000000e+00,\n",
              "        0.00000000e+00, 0.00000000e+00, 0.00000000e+00, 0.00000000e+00,\n",
              "        1.50371669e+02, 1.00000000e+01],\n",
              "       [0.00000000e+00, 0.00000000e+00, 0.00000000e+00, 0.00000000e+00,\n",
              "        0.00000000e+00, 0.00000000e+00, 0.00000000e+00, 0.00000000e+00,\n",
              "        0.00000000e+00, 1.00000000e+01]])"
            ]
          },
          "execution_count": 172,
          "metadata": {},
          "output_type": "execute_result"
        }
      ],
      "source": [
        "def algo(a_list, m, t=np.pi/2):\n",
        "    b_list = np.zeros(shape=(m+2,m+1))\n",
        "    b_list[0,:m+1] = a_list[:m+1]\n",
        "    for i in range(1, m+1):\n",
        "        b_list[i][m] = b_list[i-1][m]\n",
        "        for j in range(m, i-1, -1):\n",
        "            b_list[i][j-1] = t * b_list[i][j] + b_list[i-1][j-1]\n",
        "    b_list[m+1 ,m] = b_list[m,m]\n",
        "    \n",
        "    return b_list\n",
        "\n",
        "def a_coeff(index):\n",
        "    return np.sin(np.pi*index /2) / math.factorial(index)\n"
      ]
    },
    {
      "cell_type": "code",
      "execution_count": 212,
      "metadata": {
        "id": "0VybVQCRoWgE"
      },
      "outputs": [],
      "source": [
        "def a_coeff(index):\n",
        "    return np.sin(np.pi*index /2) / math.factorial(index)\n"
      ]
    },
    {
      "cell_type": "code",
      "execution_count": null,
      "metadata": {
        "id": "tild_ldQoWgE"
      },
      "outputs": [],
      "source": []
    }
  ],
  "metadata": {
    "colab": {
      "provenance": []
    },
    "kernelspec": {
      "display_name": "Python 3",
      "language": "python",
      "name": "python3"
    },
    "language_info": {
      "codemirror_mode": {
        "name": "ipython",
        "version": 3
      },
      "file_extension": ".py",
      "mimetype": "text/x-python",
      "name": "python",
      "nbconvert_exporter": "python",
      "pygments_lexer": "ipython3",
      "version": "3.10.12"
    }
  },
  "nbformat": 4,
  "nbformat_minor": 0
}
