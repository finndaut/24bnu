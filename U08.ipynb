{
 "cells": [
  {
   "cell_type": "markdown",
   "metadata": {},
   "source": []
  },
  {
   "cell_type": "code",
   "execution_count": 11,
   "metadata": {},
   "outputs": [
    {
     "data": {
      "text/plain": [
       "(array([[1.e+00, 0.e+00, 2.e+00],\n",
       "        [1.e+00, 1.e-20, 3.e+00],\n",
       "        [2.e+00, 1.e+00, 1.e+00]]),\n",
       " array([[1.e+00, 0.e+00, 2.e+00],\n",
       "        [1.e+00, 1.e-20, 3.e+00],\n",
       "        [2.e+00, 1.e+00, 1.e+00]]))"
      ]
     },
     "execution_count": 11,
     "metadata": {},
     "output_type": "execute_result"
    }
   ],
   "source": [
    "import numpy as np\n",
    "\n",
    "B_arr = np.array([[1, 0, 2],\n",
    "                  [1, 10**-20, 3],\n",
    "                  [2, 1, 1]])\n",
    "\n",
    "def lr_zerlegung(A_arr, type):\n",
    "    R_arr = A_arr\n",
    "    L_arr = A_arr\n",
    "    \n",
    "\n",
    "    return R_arr, L_arr\n",
    "\n",
    "lr_zerlegung(B_arr, 0)"
   ]
  },
  {
   "cell_type": "code",
   "execution_count": null,
   "metadata": {},
   "outputs": [],
   "source": []
  }
 ],
 "metadata": {
  "kernelspec": {
   "display_name": "base",
   "language": "python",
   "name": "python3"
  },
  "language_info": {
   "codemirror_mode": {
    "name": "ipython",
    "version": 3
   },
   "file_extension": ".py",
   "mimetype": "text/x-python",
   "name": "python",
   "nbconvert_exporter": "python",
   "pygments_lexer": "ipython3",
   "version": "3.10.12"
  }
 },
 "nbformat": 4,
 "nbformat_minor": 2
}
