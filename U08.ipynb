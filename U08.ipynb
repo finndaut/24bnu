{
 "cells": [
  {
   "cell_type": "markdown",
   "metadata": {},
   "source": []
  },
  {
   "cell_type": "code",
   "execution_count": 1,
   "metadata": {},
   "outputs": [
    {
     "name": "stdout",
     "output_type": "stream",
     "text": [
      "[11.  0.  2.]\n",
      "[11. -3.  2.]\n",
      "[11.  0.  2.]\n"
     ]
    }
   ],
   "source": [
    "import numpy as np\n",
    "\n",
    "\n",
    "A_arr = np.array([[1, 0, 2],\n",
    "                  [1, 10**-20, 3],\n",
    "                  [2, 1, 1]], dtype=np.float64)\n",
    "b_arr = np.array([15, 17, 21], dtype=np.float64)\n",
    "\n",
    "\n",
    "def lr_zerlegung(A_arr, b_arr, type):\n",
    "    R_arr = np.array(A_arr)\n",
    "    L_arr = np.zeros_like(R_arr)\n",
    "    i_dim, _ = A_arr.shape\n",
    "    i_idx = np.arange(i_dim)\n",
    "\n",
    "    for k in range(0, i_dim - 1):\n",
    "        if type > 1:\n",
    "            if type > 2:\n",
    "                for i in range(k, i_dim):\n",
    "                    si = 0\n",
    "                    for i in range(k, i_dim):\n",
    "                        si += abs(R_arr[i_idx[k:], k])\n",
    "            else:\n",
    "                si = 1\n",
    "            mod_max = abs(R_arr[i_idx[k:], k]) / si\n",
    "            i_pivot = k + np.argmax(mod_max)\n",
    "            i_idx[k], i_idx[i_pivot] = i_idx[i_pivot], i_idx[k]\n",
    "\n",
    "        for i in range(k + 1, i_dim):\n",
    "            lij = R_arr[i_idx[i], k] / R_arr[i_idx[k], k]\n",
    "            L_arr[i_idx[i], k] = lij\n",
    "            R_arr[i_idx[i], k:] -= lij * R_arr[i_idx[k], k:]\n",
    "\n",
    "    L_arr[i_idx, :] += np.eye(i_dim)\n",
    "\n",
    "    x_arr = np.zeros_like(b_arr)\n",
    "    x_arr[0] = b_arr[i_idx[0]]\n",
    "    for i in range(1, i_dim):\n",
    "        x_arr[i] = b_arr[i_idx[i]]\n",
    "        x_arr[i] -= np.sum(L_arr[i_idx[i], :i] * x_arr[:i])\n",
    "\n",
    "    y_arr = np.zeros_like(b_arr)\n",
    "    y_arr[i_dim - 1] = x_arr[i_dim - 1] / R_arr[i_idx[i_dim - 1], i_dim - 1]\n",
    "    for i in range(i_dim - 2, -1, -1):\n",
    "        y_arr[i] = x_arr[i] - np.sum(R_arr[i_idx[i], i:] * y_arr[i:])\n",
    "        y_arr[i] = y_arr[i] / R_arr[i_idx[i], i]\n",
    "\n",
    "    return y_arr\n",
    "\n",
    "\n",
    "print(lr_zerlegung(A_arr, b_arr, 1))\n",
    "print(lr_zerlegung(A_arr, b_arr, 2))\n",
    "print(lr_zerlegung(A_arr, b_arr, 3))\n"
   ]
  },
  {
   "cell_type": "code",
   "execution_count": null,
   "metadata": {},
   "outputs": [],
   "source": []
  }
 ],
 "metadata": {
  "kernelspec": {
   "display_name": "base",
   "language": "python",
   "name": "python3"
  },
  "language_info": {
   "codemirror_mode": {
    "name": "ipython",
    "version": 3
   },
   "file_extension": ".py",
   "mimetype": "text/x-python",
   "name": "python",
   "nbconvert_exporter": "python",
   "pygments_lexer": "ipython3",
   "version": "3.11.7"
  }
 },
 "nbformat": 4,
 "nbformat_minor": 2
}
